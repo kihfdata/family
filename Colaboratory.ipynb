{
  "cells": [
    {
      "cell_type": "markdown",
      "metadata": {
        "id": "view-in-github",
        "colab_type": "text"
      },
      "source": [
        "<a href=\"https://colab.research.google.com/github/kihfdata/family/blob/main/Colaboratory.ipynb\" target=\"_parent\"><img src=\"https://colab.research.google.com/assets/colab-badge.svg\" alt=\"Open In Colab\"/></a>"
      ]
    },
    {
      "cell_type": "markdown",
      "source": [
        "데이터 크롤링 연습"
      ],
      "metadata": {
        "id": "rFJFGokGflNy"
      }
    },
    {
      "cell_type": "markdown",
      "source": [
        "## 데이터크롤링 연습1"
      ],
      "metadata": {
        "id": "8jaTfusRfrUU"
      }
    },
    {
      "cell_type": "markdown",
      "source": [
        "select() select_one()\n",
        "\n",
        "태그이름 →\t태그이름으로 찾음\n",
        "\n",
        ".클래스이름' →\t클래스이름으로 찾음\n",
        "\n",
        "'#아이디이름'\t→ 아이디이름으로 찾음 (아이디는 연속X)'\n",
        "\n",
        "상위태그이름>자식태그>자식태그' →\t부모 자식간의 태그 조회' >' 로 구분\n",
        "\n",
        "상위태그이름 자손태그' →\t부모 자손간의 태그 조회 #띄어쓰기(공백) 로 구분 #자식을 건너 띈다.\n",
        "\n",
        "[속성]' →\t 태그 안의 속성을 찾음\n",
        "\n",
        "태그이름.클래스이름' →\t해당태그의 클래스이름을 찾음\n",
        "\n",
        "'#아이디이름 > 태그이름.클래스이름 →\t아이이디 이름으로 찾고 자식태그와 클래스이름으로 찾음'\n"
      ],
      "metadata": {
        "id": "fTDm_r0RJQRe"
      }
    },
    {
      "cell_type": "code",
      "source": [
        "from bs4 import BeautifulSoup\n",
        "import requests\n",
        "\n",
        "url = 'https://finance.naver.com/sise/sise_market_sum.naver'\n",
        "#페이지를 url이라는 함수에 넣는다\n",
        "response = requests.get(url)\n",
        "#url을 requests.get 으로 유알엘을 불러오고 응답받는다, 응답되면 200이라고 확인됨\n",
        "soup = BeautifulSoup(response.text, 'lxml')\n",
        "\n",
        "title = soup.select('a.tltle')\n",
        "values = soup.select('td.number')\n",
        "test1 = soup.select('td')\n"
      ],
      "metadata": {
        "id": "EqeT1hwznbIb"
      },
      "execution_count": null,
      "outputs": []
    },
    {
      "cell_type": "code",
      "source": [
        "print(len(title))"
      ],
      "metadata": {
        "id": "almbPaUwLBc-",
        "outputId": "5cc875b6-0e84-4ede-c961-4e78aae2943c",
        "colab": {
          "base_uri": "https://localhost:8080/"
        }
      },
      "execution_count": 77,
      "outputs": [
        {
          "output_type": "stream",
          "name": "stdout",
          "text": [
            "50\n"
          ]
        }
      ]
    },
    {
      "cell_type": "code",
      "source": [
        "titlelist = []\n",
        "pricelist = []\n",
        "volumnlist = []\n",
        "\n",
        "\n",
        "for i in range(len(title)):\n",
        "  titlelist.append(title[i].text)\n",
        "\n",
        "print(titlelist[0:3])\n",
        "print(titlelist[3:5])\n",
        "\n"
      ],
      "metadata": {
        "colab": {
          "base_uri": "https://localhost:8080/"
        },
        "id": "7X4z7p_x3447",
        "outputId": "d2e03b54-4007-4125-a008-a6fead5ccd6f"
      },
      "execution_count": 92,
      "outputs": [
        {
          "output_type": "stream",
          "name": "stdout",
          "text": [
            "['삼성전자', 'LG에너지솔루션', 'SK하이닉스']\n",
            "['삼성바이오로직스', '삼성SDI']\n"
          ]
        }
      ]
    },
    {
      "cell_type": "code",
      "source": [
        "for idx, value in enumerate(values):\n",
        "  if idx % 10 ==0:\n",
        "    pricelist.append(value.get_text().strip())\n",
        "  if idx % 10 ==4:\n",
        "    volumnlist.append(value.get_text().strip())\n",
        "  \n",
        "\n",
        "  print(volumnlist)"
      ],
      "metadata": {
        "id": "iPM38MJnLOiL"
      },
      "execution_count": null,
      "outputs": []
    }
  ],
  "metadata": {
    "colab": {
      "name": "Colaboratory에 오신 것을 환영합니다",
      "toc_visible": true,
      "provenance": [],
      "include_colab_link": true
    },
    "kernelspec": {
      "display_name": "Python 3",
      "name": "python3"
    }
  },
  "nbformat": 4,
  "nbformat_minor": 0
}