{
  "cells": [
    {
      "cell_type": "markdown",
      "metadata": {
        "id": "view-in-github",
        "colab_type": "text"
      },
      "source": [
        "<a href=\"https://colab.research.google.com/github/kihfdata/family/blob/main/Colaboratory.ipynb\" target=\"_parent\"><img src=\"https://colab.research.google.com/assets/colab-badge.svg\" alt=\"Open In Colab\"/></a>"
      ]
    },
    {
      "cell_type": "markdown",
      "source": [
        "데이터 크롤링 연습"
      ],
      "metadata": {
        "id": "rFJFGokGflNy"
      }
    },
    {
      "cell_type": "markdown",
      "source": [
        "## 데이터크롤링 연습1"
      ],
      "metadata": {
        "id": "8jaTfusRfrUU"
      }
    },
    {
      "cell_type": "code",
      "source": [
        "from bs4 import BeautifulSoup\n",
        "\n",
        "url = 'https://finance.naver.com/sise/sise_market_sum.naver'\n",
        "#페이지를 url이라는 함수에 넣는다\n",
        "response = requests.get(url)\n",
        "#url을 requests.get 으로 유알엘을 불러오고 응답받는다, 응답되면 200이라고 확인됨\n",
        "soup = BeautifulSoup(response.text, 'lxml')\n",
        "\n",
        "menu = soup.select('a.title')\n",
        "\n",
        "print(menu)"
      ],
      "metadata": {
        "colab": {
          "base_uri": "https://localhost:8080/"
        },
        "id": "EqeT1hwznbIb",
        "outputId": "d21fa583-055f-4787-c9a5-0a103ff40a7e"
      },
      "execution_count": 36,
      "outputs": [
        {
          "output_type": "stream",
          "name": "stdout",
          "text": [
            "[]\n"
          ]
        }
      ]
    },
    {
      "cell_type": "markdown",
      "source": [],
      "metadata": {
        "id": "7WMHV4mkgMKR"
      }
    },
    {
      "cell_type": "code",
      "source": [],
      "metadata": {
        "id": "QvDmSkISnfDK"
      },
      "execution_count": null,
      "outputs": []
    }
  ],
  "metadata": {
    "colab": {
      "name": "Colaboratory에 오신 것을 환영합니다",
      "toc_visible": true,
      "provenance": [],
      "include_colab_link": true
    },
    "kernelspec": {
      "display_name": "Python 3",
      "name": "python3"
    }
  },
  "nbformat": 4,
  "nbformat_minor": 0
}