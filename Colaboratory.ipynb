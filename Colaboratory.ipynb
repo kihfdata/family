{
  "cells": [
    {
      "cell_type": "markdown",
      "metadata": {
        "id": "view-in-github",
        "colab_type": "text"
      },
      "source": [
        "<a href=\"https://colab.research.google.com/github/kihfdata/family/blob/main/Colaboratory.ipynb\" target=\"_parent\"><img src=\"https://colab.research.google.com/assets/colab-badge.svg\" alt=\"Open In Colab\"/></a>"
      ]
    },
    {
      "cell_type": "markdown",
      "source": [
        "데이터 크롤링 연습"
      ],
      "metadata": {
        "id": "rFJFGokGflNy"
      }
    },
    {
      "cell_type": "markdown",
      "source": [
        "## 데이터크롤링 연습1"
      ],
      "metadata": {
        "id": "8jaTfusRfrUU"
      }
    },
    {
      "cell_type": "code",
      "source": [
        "print('hello python')"
      ],
      "metadata": {
        "id": "zJRfpG4AfCdy",
        "outputId": "d3b6471d-2359-48f1-cdf5-c6aa41a7b92b",
        "colab": {
          "base_uri": "https://localhost:8080/"
        }
      },
      "execution_count": null,
      "outputs": [
        {
          "output_type": "stream",
          "name": "stdout",
          "text": [
            "hello python\n"
          ]
        }
      ]
    },
    {
      "cell_type": "code",
      "source": [
        "import pandas as pd\n",
        "import requests\n",
        "from bs4 import BeautifulSoup\n",
        "\n",
        "crypto_name_list = []\n",
        "crypto_market_cap_list = []\n",
        "crypto_price_list = []\n",
        "crypto_circulation_supply_list = []\n",
        "crypto_symbol_list = []\n",
        "\n",
        "df = pd.DataFrame()\n"
      ],
      "metadata": {
        "id": "08kZjzGtf61M"
      },
      "execution_count": 3,
      "outputs": []
    },
    {
      "cell_type": "markdown",
      "source": [],
      "metadata": {
        "id": "7WMHV4mkgMKR"
      }
    }
  ],
  "metadata": {
    "colab": {
      "name": "Colaboratory에 오신 것을 환영합니다",
      "toc_visible": true,
      "provenance": [],
      "include_colab_link": true
    },
    "kernelspec": {
      "display_name": "Python 3",
      "name": "python3"
    }
  },
  "nbformat": 4,
  "nbformat_minor": 0
}