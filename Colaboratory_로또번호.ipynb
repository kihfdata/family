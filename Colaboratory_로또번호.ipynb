{
  "cells": [
    {
      "cell_type": "markdown",
      "metadata": {
        "id": "view-in-github",
        "colab_type": "text"
      },
      "source": [
        "<a href=\"https://colab.research.google.com/github/kihfdata/family/blob/main/Colaboratory_%EB%A1%9C%EB%98%90%EB%B2%88%ED%98%B8.ipynb\" target=\"_parent\"><img src=\"https://colab.research.google.com/assets/colab-badge.svg\" alt=\"Open In Colab\"/></a>"
      ]
    },
    {
      "cell_type": "markdown",
      "source": [
        "로또 추출 연습# 새 섹션"
      ],
      "metadata": {
        "id": "9bDN_rRoI8ap"
      }
    },
    {
      "cell_type": "code",
      "source": [
        "from os import getrandom\n",
        "import random\n",
        "\n",
        "lotto_num = []\n",
        "\n",
        "def getrandomnumber():\n",
        "  number = random.randint(1,45)\n",
        "  return number\n",
        "count = 0\n",
        "\n",
        "while True :\n",
        "  if count > 5 :\n",
        "    break\n",
        "\n",
        "  random_number = getrandomnumber()\n",
        "  if random_number not in lotto_num:\n",
        "    lotto_num.append(random_number)\n",
        "    count = count + 1\n",
        "\n",
        "lotto_num.sort()\n",
        "print(lotto_num)"
      ],
      "metadata": {
        "id": "lb25GhquJybb",
        "outputId": "ff710d58-a269-4549-ad0f-ef2156b7497e",
        "colab": {
          "base_uri": "https://localhost:8080/"
        }
      },
      "execution_count": null,
      "outputs": [
        {
          "output_type": "stream",
          "name": "stdout",
          "text": [
            "[3, 7, 11, 34, 36, 44]\n"
          ]
        }
      ]
    },
    {
      "cell_type": "code",
      "source": [
        "test_list = [1,2,3,4,5]\n",
        "\n",
        "if 6 not in test_list:\n",
        "  test_list.append(6)\n",
        "\n",
        "  print(test_list)\n",
        "\n"
      ],
      "metadata": {
        "id": "E4w_mD5-JFDR",
        "outputId": "22e6441b-a613-4d9a-99ec-a4bf1a2d4bd4",
        "colab": {
          "base_uri": "https://localhost:8080/"
        }
      },
      "execution_count": null,
      "outputs": [
        {
          "output_type": "stream",
          "name": "stdout",
          "text": [
            "[1, 2, 3, 4, 5, 6]\n"
          ]
        }
      ]
    },
    {
      "cell_type": "code",
      "source": [
        "test_list = []\n",
        "\n",
        "for a in range(10):\n",
        "  test_list.append(a)\n",
        "\n",
        "print(test_list)"
      ],
      "metadata": {
        "id": "H2iZ7XVhpG09",
        "outputId": "5e86ab91-8b2a-459a-f253-e2e77124954a",
        "colab": {
          "base_uri": "https://localhost:8080/"
        }
      },
      "execution_count": 9,
      "outputs": [
        {
          "output_type": "stream",
          "name": "stdout",
          "text": [
            "[0, 1, 2, 3, 4, 5, 6, 7, 8, 9]\n"
          ]
        }
      ]
    }
  ],
  "metadata": {
    "colab": {
      "name": "Colaboratory에 오신 것을 환영합니다",
      "toc_visible": true,
      "provenance": [],
      "include_colab_link": true
    },
    "kernelspec": {
      "display_name": "Python 3",
      "name": "python3"
    }
  },
  "nbformat": 4,
  "nbformat_minor": 0
}