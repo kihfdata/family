{
  "cells": [
    {
      "cell_type": "markdown",
      "metadata": {
        "id": "view-in-github",
        "colab_type": "text"
      },
      "source": [
        "<a href=\"https://colab.research.google.com/github/kihfdata/family/blob/main/Colaboratory_%EB%94%95%EC%85%94%EB%84%88%EB%A6%AC%2C%ED%8A%9C%ED%94%8C%2C%ED%95%A8%EC%88%98.ipynb\" target=\"_parent\"><img src=\"https://colab.research.google.com/assets/colab-badge.svg\" alt=\"Open In Colab\"/></a>"
      ]
    },
    {
      "cell_type": "code",
      "source": [
        "# 딕셔너리\n",
        "play_data = {\n",
        "    'result' : '승리',\n",
        "    'champ_name' : '비에고',\n",
        "    'kill' : 13,\n",
        "    'death' : 9,\n",
        "    'assist' : 13\n",
        "}\n",
        "\n",
        "# dir(play_data) type(play_data) 요 개체의 하위 요소 및 타입을 아는 함수\n",
        "\n",
        "#key()\n",
        "#for key in play_data.keys():\n",
        "  #print(key)\n",
        "#values()\n",
        "#for value in play_data.values():\n",
        "  #print(value)\n",
        "\n",
        "#items()\n",
        "#for key, value in play_data.items():\n",
        "  #print(key, value)\n",
        "\n",
        "print(play_data.items())"
      ],
      "metadata": {
        "id": "bpZ7c2mBspDj",
        "outputId": "afa8b3c0-843f-4ff7-e756-708d20862ce3",
        "colab": {
          "base_uri": "https://localhost:8080/"
        }
      },
      "execution_count": 18,
      "outputs": [
        {
          "output_type": "stream",
          "name": "stdout",
          "text": [
            "dict_items([('result', '승리'), ('champ_name', '비에고'), ('kill', 13), ('death', 9), ('assist', 13)])\n"
          ]
        }
      ]
    },
    {
      "cell_type": "code",
      "source": [
        "# 튜플\n",
        "tuple_a = (1,2,3,4)\n",
        "\n",
        "type(tuple_a)"
      ],
      "metadata": {
        "id": "Id7jA787wRLc",
        "outputId": "d74c9ec1-8fff-45f8-fe5b-f46bf798a48f",
        "colab": {
          "base_uri": "https://localhost:8080/"
        }
      },
      "execution_count": 19,
      "outputs": [
        {
          "output_type": "execute_result",
          "data": {
            "text/plain": [
              "tuple"
            ]
          },
          "metadata": {},
          "execution_count": 19
        }
      ]
    },
    {
      "cell_type": "code",
      "source": [
        "#def 기본함수\n",
        "\n",
        "def sum(c, d):\n",
        "  result = c + d\n",
        "  return result\n",
        "\n",
        "print(sum(3,4))\n",
        "\n",
        "\n",
        "#결과값이 없는 함수\n",
        "def print_sum(a, b):\n",
        "  print(a+b)\n",
        "\n",
        "print_sum(1,2)\n",
        "\n",
        "#매개변수가 없는 함수\n",
        "import random\n",
        "\n",
        "def get_random_number():\n",
        "  number = random.randint(1,10)\n",
        "  return number\n",
        "\n",
        "print(get_random_number())\n",
        "\n",
        "#결과값과 매개변수가 없는 함수\n",
        "def print_hello():\n",
        "  print(\"hello\")\n",
        "\n",
        "print_hello()"
      ],
      "metadata": {
        "id": "kb3Ztc3gxqty",
        "outputId": "b599b7fa-b831-4d89-abfb-e1ff21b593ea",
        "colab": {
          "base_uri": "https://localhost:8080/",
          "height": 266
        }
      },
      "execution_count": 29,
      "outputs": [
        {
          "output_type": "stream",
          "name": "stdout",
          "text": [
            "7\n"
          ]
        },
        {
          "output_type": "error",
          "ename": "NameError",
          "evalue": "ignored",
          "traceback": [
            "\u001b[0;31m---------------------------------------------------------------------------\u001b[0m",
            "\u001b[0;31mNameError\u001b[0m                                 Traceback (most recent call last)",
            "\u001b[0;32m<ipython-input-29-236af853ae2b>\u001b[0m in \u001b[0;36m<module>\u001b[0;34m\u001b[0m\n\u001b[1;32m      6\u001b[0m \u001b[0;34m\u001b[0m\u001b[0m\n\u001b[1;32m      7\u001b[0m \u001b[0mprint\u001b[0m\u001b[0;34m(\u001b[0m\u001b[0msum\u001b[0m\u001b[0;34m(\u001b[0m\u001b[0;36m3\u001b[0m\u001b[0;34m,\u001b[0m\u001b[0;36m4\u001b[0m\u001b[0;34m)\u001b[0m\u001b[0;34m)\u001b[0m\u001b[0;34m\u001b[0m\u001b[0;34m\u001b[0m\u001b[0m\n\u001b[0;32m----> 8\u001b[0;31m \u001b[0mresult\u001b[0m\u001b[0;34m\u001b[0m\u001b[0;34m\u001b[0m\u001b[0m\n\u001b[0m\u001b[1;32m      9\u001b[0m \u001b[0;34m\u001b[0m\u001b[0m\n\u001b[1;32m     10\u001b[0m \u001b[0;31m#결과값이 없는 함수\u001b[0m\u001b[0;34m\u001b[0m\u001b[0;34m\u001b[0m\u001b[0m\n",
            "\u001b[0;31mNameError\u001b[0m: name 'result' is not defined"
          ]
        }
      ]
    }
  ],
  "metadata": {
    "colab": {
      "name": "Colaboratory에 오신 것을 환영합니다",
      "toc_visible": true,
      "provenance": [],
      "include_colab_link": true
    },
    "kernelspec": {
      "display_name": "Python 3",
      "name": "python3"
    }
  },
  "nbformat": 4,
  "nbformat_minor": 0
}